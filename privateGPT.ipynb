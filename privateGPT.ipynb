{
  "nbformat": 4,
  "nbformat_minor": 0,
  "metadata": {
    "colab": {
      "provenance": [],
      "authorship_tag": "ABX9TyPw46LQ7pCCzh7EwS3ENr7s",
      "include_colab_link": true
    },
    "kernelspec": {
      "name": "python3",
      "display_name": "Python 3"
    },
    "language_info": {
      "name": "python"
    }
  },
  "cells": [
    {
      "cell_type": "markdown",
      "metadata": {
        "id": "view-in-github",
        "colab_type": "text"
      },
      "source": [
        "<a href=\"https://colab.research.google.com/github/KhaledAnaqwa/privateGPT/blob/main/privateGPT.ipynb\" target=\"_parent\"><img src=\"https://colab.research.google.com/assets/colab-badge.svg\" alt=\"Open In Colab\"/></a>"
      ]
    },
    {
      "cell_type": "code",
      "execution_count": null,
      "metadata": {
        "colab": {
          "base_uri": "https://localhost:8080/"
        },
        "id": "4easKFYmNxiq",
        "outputId": "7e5b0bd8-638d-4855-faa2-5e871edf6913"
      },
      "outputs": [
        {
          "output_type": "stream",
          "name": "stdout",
          "text": [
            "Cloning into 'privateGPT'...\n",
            "remote: Enumerating objects: 279, done.\u001b[K\n",
            "remote: Counting objects: 100% (183/183), done.\u001b[K\n",
            "remote: Compressing objects: 100% (80/80), done.\u001b[K\n",
            "remote: Total 279 (delta 149), reused 103 (delta 103), pack-reused 96\u001b[K\n",
            "Receiving objects: 100% (279/279), 92.91 KiB | 806.00 KiB/s, done.\n",
            "Resolving deltas: 100% (154/154), done.\n"
          ]
        }
      ],
      "source": [
        "!git clone https://github.com/imartinez/privateGPT.git"
      ]
    },
    {
      "cell_type": "code",
      "source": [
        "\n",
        "!pip3 install -r privateGPT/requirements.txt"
      ],
      "metadata": {
        "colab": {
          "base_uri": "https://localhost:8080/"
        },
        "id": "-wgvGGp3ODYU",
        "outputId": "20df4789-f4c8-4be1-de49-62031f29c2af"
      },
      "execution_count": null,
      "outputs": [
        {
          "output_type": "stream",
          "name": "stdout",
          "text": [
            "Looking in indexes: https://pypi.org/simple, https://us-python.pkg.dev/colab-wheels/public/simple/\n",
            "Requirement already satisfied: langchain==0.0.177 in /usr/local/lib/python3.10/dist-packages (from -r privateGPT/requirements.txt (line 1)) (0.0.177)\n",
            "Requirement already satisfied: gpt4all==0.2.3 in /usr/local/lib/python3.10/dist-packages (from -r privateGPT/requirements.txt (line 2)) (0.2.3)\n",
            "Requirement already satisfied: chromadb==0.3.23 in /usr/local/lib/python3.10/dist-packages (from -r privateGPT/requirements.txt (line 3)) (0.3.23)\n",
            "Requirement already satisfied: llama-cpp-python==0.1.50 in /usr/local/lib/python3.10/dist-packages (from -r privateGPT/requirements.txt (line 4)) (0.1.50)\n",
            "Requirement already satisfied: urllib3==2.0.2 in /usr/local/lib/python3.10/dist-packages (from -r privateGPT/requirements.txt (line 5)) (2.0.2)\n",
            "Requirement already satisfied: pdfminer.six==20221105 in /usr/local/lib/python3.10/dist-packages (from -r privateGPT/requirements.txt (line 6)) (20221105)\n",
            "Requirement already satisfied: python-dotenv==1.0.0 in /usr/local/lib/python3.10/dist-packages (from -r privateGPT/requirements.txt (line 7)) (1.0.0)\n",
            "Requirement already satisfied: unstructured==0.6.6 in /usr/local/lib/python3.10/dist-packages (from -r privateGPT/requirements.txt (line 8)) (0.6.6)\n",
            "Requirement already satisfied: extract-msg==0.41.1 in /usr/local/lib/python3.10/dist-packages (from -r privateGPT/requirements.txt (line 9)) (0.41.1)\n",
            "Requirement already satisfied: tabulate==0.9.0 in /usr/local/lib/python3.10/dist-packages (from -r privateGPT/requirements.txt (line 10)) (0.9.0)\n",
            "Requirement already satisfied: pandoc==2.3 in /usr/local/lib/python3.10/dist-packages (from -r privateGPT/requirements.txt (line 11)) (2.3)\n",
            "Requirement already satisfied: pypandoc==1.11 in /usr/local/lib/python3.10/dist-packages (from -r privateGPT/requirements.txt (line 12)) (1.11)\n",
            "Requirement already satisfied: tqdm==4.65.0 in /usr/local/lib/python3.10/dist-packages (from -r privateGPT/requirements.txt (line 13)) (4.65.0)\n",
            "Requirement already satisfied: PyYAML>=5.4.1 in /usr/local/lib/python3.10/dist-packages (from langchain==0.0.177->-r privateGPT/requirements.txt (line 1)) (6.0)\n",
            "Requirement already satisfied: SQLAlchemy<3,>=1.4 in /usr/local/lib/python3.10/dist-packages (from langchain==0.0.177->-r privateGPT/requirements.txt (line 1)) (2.0.10)\n",
            "Requirement already satisfied: aiohttp<4.0.0,>=3.8.3 in /usr/local/lib/python3.10/dist-packages (from langchain==0.0.177->-r privateGPT/requirements.txt (line 1)) (3.8.4)\n",
            "Requirement already satisfied: async-timeout<5.0.0,>=4.0.0 in /usr/local/lib/python3.10/dist-packages (from langchain==0.0.177->-r privateGPT/requirements.txt (line 1)) (4.0.2)\n",
            "Requirement already satisfied: dataclasses-json<0.6.0,>=0.5.7 in /usr/local/lib/python3.10/dist-packages (from langchain==0.0.177->-r privateGPT/requirements.txt (line 1)) (0.5.7)\n",
            "Requirement already satisfied: numexpr<3.0.0,>=2.8.4 in /usr/local/lib/python3.10/dist-packages (from langchain==0.0.177->-r privateGPT/requirements.txt (line 1)) (2.8.4)\n",
            "Requirement already satisfied: numpy<2,>=1 in /usr/local/lib/python3.10/dist-packages (from langchain==0.0.177->-r privateGPT/requirements.txt (line 1)) (1.22.4)\n",
            "Requirement already satisfied: openapi-schema-pydantic<2.0,>=1.2 in /usr/local/lib/python3.10/dist-packages (from langchain==0.0.177->-r privateGPT/requirements.txt (line 1)) (1.2.4)\n",
            "Requirement already satisfied: pydantic<2,>=1 in /usr/local/lib/python3.10/dist-packages (from langchain==0.0.177->-r privateGPT/requirements.txt (line 1)) (1.10.7)\n",
            "Requirement already satisfied: requests<3,>=2 in /usr/local/lib/python3.10/dist-packages (from langchain==0.0.177->-r privateGPT/requirements.txt (line 1)) (2.31.0)\n",
            "Requirement already satisfied: tenacity<9.0.0,>=8.1.0 in /usr/local/lib/python3.10/dist-packages (from langchain==0.0.177->-r privateGPT/requirements.txt (line 1)) (8.2.2)\n",
            "Requirement already satisfied: pandas>=1.3 in /usr/local/lib/python3.10/dist-packages (from chromadb==0.3.23->-r privateGPT/requirements.txt (line 3)) (1.5.3)\n",
            "Requirement already satisfied: hnswlib>=0.7 in /usr/local/lib/python3.10/dist-packages (from chromadb==0.3.23->-r privateGPT/requirements.txt (line 3)) (0.7.0)\n",
            "Requirement already satisfied: clickhouse-connect>=0.5.7 in /usr/local/lib/python3.10/dist-packages (from chromadb==0.3.23->-r privateGPT/requirements.txt (line 3)) (0.5.25)\n",
            "Requirement already satisfied: sentence-transformers>=2.2.2 in /usr/local/lib/python3.10/dist-packages (from chromadb==0.3.23->-r privateGPT/requirements.txt (line 3)) (2.2.2)\n",
            "Requirement already satisfied: duckdb>=0.7.1 in /usr/local/lib/python3.10/dist-packages (from chromadb==0.3.23->-r privateGPT/requirements.txt (line 3)) (0.7.1)\n",
            "Requirement already satisfied: fastapi>=0.85.1 in /usr/local/lib/python3.10/dist-packages (from chromadb==0.3.23->-r privateGPT/requirements.txt (line 3)) (0.95.2)\n",
            "Requirement already satisfied: uvicorn[standard]>=0.18.3 in /usr/local/lib/python3.10/dist-packages (from chromadb==0.3.23->-r privateGPT/requirements.txt (line 3)) (0.22.0)\n",
            "Requirement already satisfied: posthog>=2.4.0 in /usr/local/lib/python3.10/dist-packages (from chromadb==0.3.23->-r privateGPT/requirements.txt (line 3)) (3.0.1)\n",
            "Requirement already satisfied: typing-extensions>=4.5.0 in /usr/local/lib/python3.10/dist-packages (from chromadb==0.3.23->-r privateGPT/requirements.txt (line 3)) (4.5.0)\n",
            "Requirement already satisfied: charset-normalizer>=2.0.0 in /usr/local/lib/python3.10/dist-packages (from pdfminer.six==20221105->-r privateGPT/requirements.txt (line 6)) (2.0.12)\n",
            "Requirement already satisfied: cryptography>=36.0.0 in /usr/local/lib/python3.10/dist-packages (from pdfminer.six==20221105->-r privateGPT/requirements.txt (line 6)) (40.0.2)\n",
            "Requirement already satisfied: argilla in /usr/local/lib/python3.10/dist-packages (from unstructured==0.6.6->-r privateGPT/requirements.txt (line 8)) (1.7.0)\n",
            "Requirement already satisfied: lxml in /usr/local/lib/python3.10/dist-packages (from unstructured==0.6.6->-r privateGPT/requirements.txt (line 8)) (4.9.2)\n",
            "Requirement already satisfied: msg-parser in /usr/local/lib/python3.10/dist-packages (from unstructured==0.6.6->-r privateGPT/requirements.txt (line 8)) (1.2.0)\n",
            "Requirement already satisfied: nltk in /usr/local/lib/python3.10/dist-packages (from unstructured==0.6.6->-r privateGPT/requirements.txt (line 8)) (3.8.1)\n",
            "Requirement already satisfied: openpyxl in /usr/local/lib/python3.10/dist-packages (from unstructured==0.6.6->-r privateGPT/requirements.txt (line 8)) (3.0.10)\n",
            "Requirement already satisfied: pillow in /usr/local/lib/python3.10/dist-packages (from unstructured==0.6.6->-r privateGPT/requirements.txt (line 8)) (8.4.0)\n",
            "Requirement already satisfied: python-docx in /usr/local/lib/python3.10/dist-packages (from unstructured==0.6.6->-r privateGPT/requirements.txt (line 8)) (0.8.11)\n",
            "Requirement already satisfied: python-pptx in /usr/local/lib/python3.10/dist-packages (from unstructured==0.6.6->-r privateGPT/requirements.txt (line 8)) (0.6.21)\n",
            "Requirement already satisfied: python-magic in /usr/local/lib/python3.10/dist-packages (from unstructured==0.6.6->-r privateGPT/requirements.txt (line 8)) (0.4.27)\n",
            "Requirement already satisfied: markdown in /usr/local/lib/python3.10/dist-packages (from unstructured==0.6.6->-r privateGPT/requirements.txt (line 8)) (3.4.3)\n",
            "Requirement already satisfied: certifi>=2022.12.07 in /usr/local/lib/python3.10/dist-packages (from unstructured==0.6.6->-r privateGPT/requirements.txt (line 8)) (2022.12.7)\n",
            "Requirement already satisfied: imapclient<3,>=2.3.0 in /usr/local/lib/python3.10/dist-packages (from extract-msg==0.41.1->-r privateGPT/requirements.txt (line 9)) (2.3.1)\n",
            "Requirement already satisfied: olefile==0.46 in /usr/local/lib/python3.10/dist-packages (from extract-msg==0.41.1->-r privateGPT/requirements.txt (line 9)) (0.46)\n",
            "Requirement already satisfied: tzlocal==4.2 in /usr/local/lib/python3.10/dist-packages (from extract-msg==0.41.1->-r privateGPT/requirements.txt (line 9)) (4.2)\n",
            "Requirement already satisfied: compressed-rtf==1.0.6 in /usr/local/lib/python3.10/dist-packages (from extract-msg==0.41.1->-r privateGPT/requirements.txt (line 9)) (1.0.6)\n",
            "Requirement already satisfied: ebcdic==1.1.1 in /usr/local/lib/python3.10/dist-packages (from extract-msg==0.41.1->-r privateGPT/requirements.txt (line 9)) (1.1.1)\n",
            "Requirement already satisfied: beautifulsoup4<4.13,>=4.11.1 in /usr/local/lib/python3.10/dist-packages (from extract-msg==0.41.1->-r privateGPT/requirements.txt (line 9)) (4.11.2)\n",
            "Requirement already satisfied: RTFDE==0.0.2 in /usr/local/lib/python3.10/dist-packages (from extract-msg==0.41.1->-r privateGPT/requirements.txt (line 9)) (0.0.2)\n",
            "Requirement already satisfied: chardet<6,>=4.0.0 in /usr/local/lib/python3.10/dist-packages (from extract-msg==0.41.1->-r privateGPT/requirements.txt (line 9)) (4.0.0)\n",
            "Requirement already satisfied: red-black-tree-mod==1.20 in /usr/local/lib/python3.10/dist-packages (from extract-msg==0.41.1->-r privateGPT/requirements.txt (line 9)) (1.20)\n",
            "Requirement already satisfied: plumbum in /usr/local/lib/python3.10/dist-packages (from pandoc==2.3->-r privateGPT/requirements.txt (line 11)) (1.8.2)\n",
            "Requirement already satisfied: ply in /usr/local/lib/python3.10/dist-packages (from pandoc==2.3->-r privateGPT/requirements.txt (line 11)) (3.11)\n",
            "Requirement already satisfied: lark-parser>=0.11 in /usr/local/lib/python3.10/dist-packages (from RTFDE==0.0.2->extract-msg==0.41.1->-r privateGPT/requirements.txt (line 9)) (0.12.0)\n",
            "Requirement already satisfied: oletools>=0.56 in /usr/local/lib/python3.10/dist-packages (from RTFDE==0.0.2->extract-msg==0.41.1->-r privateGPT/requirements.txt (line 9)) (0.60.1)\n",
            "Requirement already satisfied: pytz-deprecation-shim in /usr/local/lib/python3.10/dist-packages (from tzlocal==4.2->extract-msg==0.41.1->-r privateGPT/requirements.txt (line 9)) (0.1.0.post0)\n",
            "Requirement already satisfied: attrs>=17.3.0 in /usr/local/lib/python3.10/dist-packages (from aiohttp<4.0.0,>=3.8.3->langchain==0.0.177->-r privateGPT/requirements.txt (line 1)) (23.1.0)\n",
            "Requirement already satisfied: multidict<7.0,>=4.5 in /usr/local/lib/python3.10/dist-packages (from aiohttp<4.0.0,>=3.8.3->langchain==0.0.177->-r privateGPT/requirements.txt (line 1)) (6.0.4)\n",
            "Requirement already satisfied: yarl<2.0,>=1.0 in /usr/local/lib/python3.10/dist-packages (from aiohttp<4.0.0,>=3.8.3->langchain==0.0.177->-r privateGPT/requirements.txt (line 1)) (1.9.2)\n",
            "Requirement already satisfied: frozenlist>=1.1.1 in /usr/local/lib/python3.10/dist-packages (from aiohttp<4.0.0,>=3.8.3->langchain==0.0.177->-r privateGPT/requirements.txt (line 1)) (1.3.3)\n",
            "Requirement already satisfied: aiosignal>=1.1.2 in /usr/local/lib/python3.10/dist-packages (from aiohttp<4.0.0,>=3.8.3->langchain==0.0.177->-r privateGPT/requirements.txt (line 1)) (1.3.1)\n",
            "Requirement already satisfied: soupsieve>1.2 in /usr/local/lib/python3.10/dist-packages (from beautifulsoup4<4.13,>=4.11.1->extract-msg==0.41.1->-r privateGPT/requirements.txt (line 9)) (2.4.1)\n",
            "Requirement already satisfied: pytz in /usr/local/lib/python3.10/dist-packages (from clickhouse-connect>=0.5.7->chromadb==0.3.23->-r privateGPT/requirements.txt (line 3)) (2022.7.1)\n",
            "Requirement already satisfied: zstandard in /usr/local/lib/python3.10/dist-packages (from clickhouse-connect>=0.5.7->chromadb==0.3.23->-r privateGPT/requirements.txt (line 3)) (0.21.0)\n",
            "Requirement already satisfied: lz4 in /usr/local/lib/python3.10/dist-packages (from clickhouse-connect>=0.5.7->chromadb==0.3.23->-r privateGPT/requirements.txt (line 3)) (4.3.2)\n",
            "Requirement already satisfied: cffi>=1.12 in /usr/local/lib/python3.10/dist-packages (from cryptography>=36.0.0->pdfminer.six==20221105->-r privateGPT/requirements.txt (line 6)) (1.15.1)\n",
            "Requirement already satisfied: marshmallow<4.0.0,>=3.3.0 in /usr/local/lib/python3.10/dist-packages (from dataclasses-json<0.6.0,>=0.5.7->langchain==0.0.177->-r privateGPT/requirements.txt (line 1)) (3.19.0)\n",
            "Requirement already satisfied: marshmallow-enum<2.0.0,>=1.5.1 in /usr/local/lib/python3.10/dist-packages (from dataclasses-json<0.6.0,>=0.5.7->langchain==0.0.177->-r privateGPT/requirements.txt (line 1)) (1.5.1)\n",
            "Requirement already satisfied: typing-inspect>=0.4.0 in /usr/local/lib/python3.10/dist-packages (from dataclasses-json<0.6.0,>=0.5.7->langchain==0.0.177->-r privateGPT/requirements.txt (line 1)) (0.9.0)\n",
            "Requirement already satisfied: starlette<0.28.0,>=0.27.0 in /usr/local/lib/python3.10/dist-packages (from fastapi>=0.85.1->chromadb==0.3.23->-r privateGPT/requirements.txt (line 3)) (0.27.0)\n",
            "Requirement already satisfied: six in /usr/local/lib/python3.10/dist-packages (from imapclient<3,>=2.3.0->extract-msg==0.41.1->-r privateGPT/requirements.txt (line 9)) (1.16.0)\n",
            "Requirement already satisfied: python-dateutil>=2.8.1 in /usr/local/lib/python3.10/dist-packages (from pandas>=1.3->chromadb==0.3.23->-r privateGPT/requirements.txt (line 3)) (2.8.2)\n",
            "Requirement already satisfied: monotonic>=1.5 in /usr/local/lib/python3.10/dist-packages (from posthog>=2.4.0->chromadb==0.3.23->-r privateGPT/requirements.txt (line 3)) (1.6)\n",
            "Requirement already satisfied: backoff>=1.10.0 in /usr/local/lib/python3.10/dist-packages (from posthog>=2.4.0->chromadb==0.3.23->-r privateGPT/requirements.txt (line 3)) (2.2.1)\n",
            "Requirement already satisfied: idna<4,>=2.5 in /usr/local/lib/python3.10/dist-packages (from requests<3,>=2->langchain==0.0.177->-r privateGPT/requirements.txt (line 1)) (3.4)\n",
            "Requirement already satisfied: transformers<5.0.0,>=4.6.0 in /usr/local/lib/python3.10/dist-packages (from sentence-transformers>=2.2.2->chromadb==0.3.23->-r privateGPT/requirements.txt (line 3)) (4.29.2)\n",
            "Requirement already satisfied: torch>=1.6.0 in /usr/local/lib/python3.10/dist-packages (from sentence-transformers>=2.2.2->chromadb==0.3.23->-r privateGPT/requirements.txt (line 3)) (2.0.1+cu118)\n",
            "Requirement already satisfied: torchvision in /usr/local/lib/python3.10/dist-packages (from sentence-transformers>=2.2.2->chromadb==0.3.23->-r privateGPT/requirements.txt (line 3)) (0.15.2+cu118)\n",
            "Requirement already satisfied: scikit-learn in /usr/local/lib/python3.10/dist-packages (from sentence-transformers>=2.2.2->chromadb==0.3.23->-r privateGPT/requirements.txt (line 3)) (1.2.2)\n",
            "Requirement already satisfied: scipy in /usr/local/lib/python3.10/dist-packages (from sentence-transformers>=2.2.2->chromadb==0.3.23->-r privateGPT/requirements.txt (line 3)) (1.10.1)\n",
            "Requirement already satisfied: sentencepiece in /usr/local/lib/python3.10/dist-packages (from sentence-transformers>=2.2.2->chromadb==0.3.23->-r privateGPT/requirements.txt (line 3)) (0.1.99)\n",
            "Requirement already satisfied: huggingface-hub>=0.4.0 in /usr/local/lib/python3.10/dist-packages (from sentence-transformers>=2.2.2->chromadb==0.3.23->-r privateGPT/requirements.txt (line 3)) (0.14.1)\n",
            "Requirement already satisfied: greenlet!=0.4.17 in /usr/local/lib/python3.10/dist-packages (from SQLAlchemy<3,>=1.4->langchain==0.0.177->-r privateGPT/requirements.txt (line 1)) (2.0.2)\n",
            "Requirement already satisfied: click>=7.0 in /usr/local/lib/python3.10/dist-packages (from uvicorn[standard]>=0.18.3->chromadb==0.3.23->-r privateGPT/requirements.txt (line 3)) (8.1.3)\n",
            "Requirement already satisfied: h11>=0.8 in /usr/local/lib/python3.10/dist-packages (from uvicorn[standard]>=0.18.3->chromadb==0.3.23->-r privateGPT/requirements.txt (line 3)) (0.14.0)\n",
            "Requirement already satisfied: httptools>=0.5.0 in /usr/local/lib/python3.10/dist-packages (from uvicorn[standard]>=0.18.3->chromadb==0.3.23->-r privateGPT/requirements.txt (line 3)) (0.5.0)\n",
            "Requirement already satisfied: uvloop!=0.15.0,!=0.15.1,>=0.14.0 in /usr/local/lib/python3.10/dist-packages (from uvicorn[standard]>=0.18.3->chromadb==0.3.23->-r privateGPT/requirements.txt (line 3)) (0.17.0)\n",
            "Requirement already satisfied: watchfiles>=0.13 in /usr/local/lib/python3.10/dist-packages (from uvicorn[standard]>=0.18.3->chromadb==0.3.23->-r privateGPT/requirements.txt (line 3)) (0.19.0)\n",
            "Requirement already satisfied: websockets>=10.4 in /usr/local/lib/python3.10/dist-packages (from uvicorn[standard]>=0.18.3->chromadb==0.3.23->-r privateGPT/requirements.txt (line 3)) (11.0.3)\n",
            "Requirement already satisfied: httpx<0.24,>=0.15 in /usr/local/lib/python3.10/dist-packages (from argilla->unstructured==0.6.6->-r privateGPT/requirements.txt (line 8)) (0.23.3)\n",
            "Requirement already satisfied: deprecated~=1.2.0 in /usr/local/lib/python3.10/dist-packages (from argilla->unstructured==0.6.6->-r privateGPT/requirements.txt (line 8)) (1.2.14)\n",
            "Requirement already satisfied: packaging>=20.0 in /usr/local/lib/python3.10/dist-packages (from argilla->unstructured==0.6.6->-r privateGPT/requirements.txt (line 8)) (23.1)\n",
            "Requirement already satisfied: wrapt<1.15,>=1.13 in /usr/local/lib/python3.10/dist-packages (from argilla->unstructured==0.6.6->-r privateGPT/requirements.txt (line 8)) (1.14.1)\n",
            "Requirement already satisfied: rich<=13.0.1 in /usr/local/lib/python3.10/dist-packages (from argilla->unstructured==0.6.6->-r privateGPT/requirements.txt (line 8)) (13.0.1)\n",
            "Requirement already satisfied: typer<1.0.0,>=0.6.0 in /usr/local/lib/python3.10/dist-packages (from argilla->unstructured==0.6.6->-r privateGPT/requirements.txt (line 8)) (0.7.0)\n",
            "Requirement already satisfied: joblib in /usr/local/lib/python3.10/dist-packages (from nltk->unstructured==0.6.6->-r privateGPT/requirements.txt (line 8)) (1.2.0)\n",
            "Requirement already satisfied: regex>=2021.8.3 in /usr/local/lib/python3.10/dist-packages (from nltk->unstructured==0.6.6->-r privateGPT/requirements.txt (line 8)) (2022.10.31)\n",
            "Requirement already satisfied: et-xmlfile in /usr/local/lib/python3.10/dist-packages (from openpyxl->unstructured==0.6.6->-r privateGPT/requirements.txt (line 8)) (1.1.0)\n",
            "Requirement already satisfied: XlsxWriter>=0.5.7 in /usr/local/lib/python3.10/dist-packages (from python-pptx->unstructured==0.6.6->-r privateGPT/requirements.txt (line 8)) (3.1.2)\n",
            "Requirement already satisfied: pycparser in /usr/local/lib/python3.10/dist-packages (from cffi>=1.12->cryptography>=36.0.0->pdfminer.six==20221105->-r privateGPT/requirements.txt (line 6)) (2.21)\n",
            "Requirement already satisfied: httpcore<0.17.0,>=0.15.0 in /usr/local/lib/python3.10/dist-packages (from httpx<0.24,>=0.15->argilla->unstructured==0.6.6->-r privateGPT/requirements.txt (line 8)) (0.16.3)\n",
            "Requirement already satisfied: rfc3986[idna2008]<2,>=1.3 in /usr/local/lib/python3.10/dist-packages (from httpx<0.24,>=0.15->argilla->unstructured==0.6.6->-r privateGPT/requirements.txt (line 8)) (1.5.0)\n",
            "Requirement already satisfied: sniffio in /usr/local/lib/python3.10/dist-packages (from httpx<0.24,>=0.15->argilla->unstructured==0.6.6->-r privateGPT/requirements.txt (line 8)) (1.3.0)\n",
            "Requirement already satisfied: filelock in /usr/local/lib/python3.10/dist-packages (from huggingface-hub>=0.4.0->sentence-transformers>=2.2.2->chromadb==0.3.23->-r privateGPT/requirements.txt (line 3)) (3.12.0)\n",
            "Requirement already satisfied: fsspec in /usr/local/lib/python3.10/dist-packages (from huggingface-hub>=0.4.0->sentence-transformers>=2.2.2->chromadb==0.3.23->-r privateGPT/requirements.txt (line 3)) (2023.4.0)\n",
            "Requirement already satisfied: pyparsing<3,>=2.1.0 in /usr/local/lib/python3.10/dist-packages (from oletools>=0.56->RTFDE==0.0.2->extract-msg==0.41.1->-r privateGPT/requirements.txt (line 9)) (2.4.7)\n",
            "Requirement already satisfied: easygui in /usr/local/lib/python3.10/dist-packages (from oletools>=0.56->RTFDE==0.0.2->extract-msg==0.41.1->-r privateGPT/requirements.txt (line 9)) (0.98.3)\n",
            "Requirement already satisfied: colorclass in /usr/local/lib/python3.10/dist-packages (from oletools>=0.56->RTFDE==0.0.2->extract-msg==0.41.1->-r privateGPT/requirements.txt (line 9)) (2.2.2)\n",
            "Requirement already satisfied: pcodedmp>=1.2.5 in /usr/local/lib/python3.10/dist-packages (from oletools>=0.56->RTFDE==0.0.2->extract-msg==0.41.1->-r privateGPT/requirements.txt (line 9)) (1.2.6)\n",
            "Requirement already satisfied: msoffcrypto-tool in /usr/local/lib/python3.10/dist-packages (from oletools>=0.56->RTFDE==0.0.2->extract-msg==0.41.1->-r privateGPT/requirements.txt (line 9)) (5.0.1)\n",
            "Requirement already satisfied: commonmark<0.10.0,>=0.9.0 in /usr/local/lib/python3.10/dist-packages (from rich<=13.0.1->argilla->unstructured==0.6.6->-r privateGPT/requirements.txt (line 8)) (0.9.1)\n",
            "Requirement already satisfied: pygments<3.0.0,>=2.6.0 in /usr/local/lib/python3.10/dist-packages (from rich<=13.0.1->argilla->unstructured==0.6.6->-r privateGPT/requirements.txt (line 8)) (2.14.0)\n",
            "Requirement already satisfied: anyio<5,>=3.4.0 in /usr/local/lib/python3.10/dist-packages (from starlette<0.28.0,>=0.27.0->fastapi>=0.85.1->chromadb==0.3.23->-r privateGPT/requirements.txt (line 3)) (3.6.2)\n",
            "Requirement already satisfied: sympy in /usr/local/lib/python3.10/dist-packages (from torch>=1.6.0->sentence-transformers>=2.2.2->chromadb==0.3.23->-r privateGPT/requirements.txt (line 3)) (1.11.1)\n",
            "Requirement already satisfied: networkx in /usr/local/lib/python3.10/dist-packages (from torch>=1.6.0->sentence-transformers>=2.2.2->chromadb==0.3.23->-r privateGPT/requirements.txt (line 3)) (3.1)\n",
            "Requirement already satisfied: jinja2 in /usr/local/lib/python3.10/dist-packages (from torch>=1.6.0->sentence-transformers>=2.2.2->chromadb==0.3.23->-r privateGPT/requirements.txt (line 3)) (3.1.2)\n",
            "Requirement already satisfied: triton==2.0.0 in /usr/local/lib/python3.10/dist-packages (from torch>=1.6.0->sentence-transformers>=2.2.2->chromadb==0.3.23->-r privateGPT/requirements.txt (line 3)) (2.0.0)\n",
            "Requirement already satisfied: cmake in /usr/local/lib/python3.10/dist-packages (from triton==2.0.0->torch>=1.6.0->sentence-transformers>=2.2.2->chromadb==0.3.23->-r privateGPT/requirements.txt (line 3)) (3.25.2)\n",
            "Requirement already satisfied: lit in /usr/local/lib/python3.10/dist-packages (from triton==2.0.0->torch>=1.6.0->sentence-transformers>=2.2.2->chromadb==0.3.23->-r privateGPT/requirements.txt (line 3)) (16.0.5)\n",
            "Requirement already satisfied: tokenizers!=0.11.3,<0.14,>=0.11.1 in /usr/local/lib/python3.10/dist-packages (from transformers<5.0.0,>=4.6.0->sentence-transformers>=2.2.2->chromadb==0.3.23->-r privateGPT/requirements.txt (line 3)) (0.13.3)\n",
            "Requirement already satisfied: mypy-extensions>=0.3.0 in /usr/local/lib/python3.10/dist-packages (from typing-inspect>=0.4.0->dataclasses-json<0.6.0,>=0.5.7->langchain==0.0.177->-r privateGPT/requirements.txt (line 1)) (1.0.0)\n",
            "Requirement already satisfied: tzdata in /usr/local/lib/python3.10/dist-packages (from pytz-deprecation-shim->tzlocal==4.2->extract-msg==0.41.1->-r privateGPT/requirements.txt (line 9)) (2023.3)\n",
            "Requirement already satisfied: threadpoolctl>=2.0.0 in /usr/local/lib/python3.10/dist-packages (from scikit-learn->sentence-transformers>=2.2.2->chromadb==0.3.23->-r privateGPT/requirements.txt (line 3)) (3.1.0)\n",
            "Requirement already satisfied: MarkupSafe>=2.0 in /usr/local/lib/python3.10/dist-packages (from jinja2->torch>=1.6.0->sentence-transformers>=2.2.2->chromadb==0.3.23->-r privateGPT/requirements.txt (line 3)) (2.1.2)\n",
            "Requirement already satisfied: mpmath>=0.19 in /usr/local/lib/python3.10/dist-packages (from sympy->torch>=1.6.0->sentence-transformers>=2.2.2->chromadb==0.3.23->-r privateGPT/requirements.txt (line 3)) (1.3.0)\n"
          ]
        }
      ]
    },
    {
      "cell_type": "code",
      "source": [
        "%cd privateGPT"
      ],
      "metadata": {
        "colab": {
          "base_uri": "https://localhost:8080/"
        },
        "id": "PkIPRnh_Ol3T",
        "outputId": "52dd27a9-f578-4851-cce7-e035839a3a28"
      },
      "execution_count": null,
      "outputs": [
        {
          "output_type": "stream",
          "name": "stdout",
          "text": [
            "/content/privateGPT\n"
          ]
        }
      ]
    },
    {
      "cell_type": "code",
      "source": [
        "%mkdir models"
      ],
      "metadata": {
        "id": "IBobseY4Q7kt",
        "colab": {
          "base_uri": "https://localhost:8080/"
        },
        "outputId": "d6c9d1e9-1df8-4f9a-a9ae-e1dcaadb70cb"
      },
      "execution_count": null,
      "outputs": [
        {
          "output_type": "stream",
          "name": "stdout",
          "text": [
            "mkdir: cannot create directory ‘models’: File exists\n"
          ]
        }
      ]
    },
    {
      "cell_type": "code",
      "source": [
        "%cd models"
      ],
      "metadata": {
        "id": "Lr7smD-VRha9",
        "colab": {
          "base_uri": "https://localhost:8080/"
        },
        "outputId": "2b7510fa-1bc1-440f-cb08-5abea8b63011"
      },
      "execution_count": null,
      "outputs": [
        {
          "output_type": "stream",
          "name": "stdout",
          "text": [
            "/content/privateGPT/models\n"
          ]
        }
      ]
    },
    {
      "cell_type": "code",
      "source": [
        "!wget https://gpt4all.io/models/ggml-gpt4all-j-v1.3-groovy.bin"
      ],
      "metadata": {
        "colab": {
          "base_uri": "https://localhost:8080/"
        },
        "id": "_etNTASOPssI",
        "outputId": "1d275cdd-a9c4-44c3-94eb-e3dd480a98d1"
      },
      "execution_count": null,
      "outputs": [
        {
          "output_type": "stream",
          "name": "stdout",
          "text": [
            "--2023-05-30 20:28:33--  https://gpt4all.io/models/ggml-gpt4all-j-v1.3-groovy.bin\n",
            "Resolving gpt4all.io (gpt4all.io)... 104.26.0.159, 104.26.1.159, 172.67.71.169, ...\n",
            "Connecting to gpt4all.io (gpt4all.io)|104.26.0.159|:443... connected.\n",
            "HTTP request sent, awaiting response... 200 OK\n",
            "Length: 3785248281 (3.5G)\n",
            "Saving to: ‘ggml-gpt4all-j-v1.3-groovy.bin’\n",
            "\n",
            "ggml-gpt4all-j-v1.3 100%[===================>]   3.52G  52.0MB/s    in 67s     \n",
            "\n",
            "2023-05-30 20:29:40 (54.0 MB/s) - ‘ggml-gpt4all-j-v1.3-groovy.bin’ saved [3785248281/3785248281]\n",
            "\n"
          ]
        }
      ]
    },
    {
      "cell_type": "code",
      "source": [
        "%cd .."
      ],
      "metadata": {
        "id": "elBPbKo6Ri9q",
        "colab": {
          "base_uri": "https://localhost:8080/"
        },
        "outputId": "0c41e09e-f45a-4907-93b3-ce6de508a356"
      },
      "execution_count": null,
      "outputs": [
        {
          "output_type": "stream",
          "name": "stdout",
          "text": [
            "/content/privateGPT\n"
          ]
        }
      ]
    },
    {
      "cell_type": "code",
      "source": [
        "%mv example.env .env"
      ],
      "metadata": {
        "id": "TETvOV55RtxN"
      },
      "execution_count": null,
      "outputs": []
    },
    {
      "cell_type": "code",
      "source": [
        "!python ingest.py\n"
      ],
      "metadata": {
        "colab": {
          "base_uri": "https://localhost:8080/"
        },
        "id": "r2ROL_VcSd4M",
        "outputId": "535b237d-6a05-482f-9b6f-0bd0f60ad892"
      },
      "execution_count": null,
      "outputs": [
        {
          "output_type": "stream",
          "name": "stdout",
          "text": [
            "Appending to existing vectorstore at db\n",
            "Using embedded DuckDB with persistence: data will be stored in: db\n",
            "Loading documents from source_documents\n",
            "Loading new documents: 0it [00:00, ?it/s]\n",
            "No new documents to load\n"
          ]
        }
      ]
    },
    {
      "cell_type": "code",
      "source": [
        "!python privateGPT.py"
      ],
      "metadata": {
        "colab": {
          "base_uri": "https://localhost:8080/"
        },
        "id": "QSVX8cxfTJDq",
        "outputId": "5e7ecf12-6b4f-4678-cd32-20dc4257c688"
      },
      "execution_count": null,
      "outputs": [
        {
          "output_type": "stream",
          "name": "stdout",
          "text": [
            "Using embedded DuckDB with persistence: data will be stored in: db\n",
            "Found model file.\n",
            "gptj_model_load: loading model from 'models/ggml-gpt4all-j-v1.3-groovy.bin' - please wait ...\n",
            "gptj_model_load: n_vocab = 50400\n",
            "gptj_model_load: n_ctx   = 2048\n",
            "gptj_model_load: n_embd  = 4096\n",
            "gptj_model_load: n_head  = 16\n",
            "gptj_model_load: n_layer = 28\n",
            "gptj_model_load: n_rot   = 64\n",
            "gptj_model_load: f16     = 2\n",
            "gptj_model_load: ggml ctx size = 5401.45 MB\n",
            "gptj_model_load: kv self size  =  896.00 MB\n",
            "gptj_model_load: ................................... done\n",
            "gptj_model_load: model size =  3609.38 MB / num tensors = 285\n",
            "\n",
            "Enter a query: what is postive impact of covid-19 \n",
            "Exception ignored on calling ctypes callback function: <function LLModel._prompt_callback at 0x7f60d80fce50>\n",
            "Traceback (most recent call last):\n",
            "  File \"/usr/local/lib/python3.10/dist-packages/gpt4all/pyllmodel.py\", line 234, in _prompt_callback\n",
            "    @staticmethod\n",
            "KeyboardInterrupt: \n",
            "^C\n"
          ]
        }
      ]
    }
  ]
}